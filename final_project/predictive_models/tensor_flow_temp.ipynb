{
 "cells": [
  {
   "cell_type": "code",
   "execution_count": 1,
   "id": "ce7dc297",
   "metadata": {},
   "outputs": [],
   "source": [
    "# The goal of this file is to predict temperature for all 9 stations for all 24 hours for 7 days\n",
    "\n",
    "# We also want to include the n\n",
    "# on-time dependent variables, i.e., include variables that indicate the station number (locations)"
   ]
  },
  {
   "cell_type": "code",
   "execution_count": 2,
   "id": "c96a480f",
   "metadata": {},
   "outputs": [],
   "source": [
    "import numpy as np\n",
    "import pandas as pd\n",
    "import tensorflow as tf\n",
    "from keras.models import Sequential\n",
    "from keras.layers import LSTM\n",
    "from keras.layers import Dense, Dropout\n",
    "from matplotlib import pyplot as plt\n",
    "from sklearn.preprocessing import StandardScaler\n",
    "from sklearn.model_selection import train_test_split\n",
    "import seaborn as sns"
   ]
  },
  {
   "cell_type": "code",
   "execution_count": 36,
   "id": "360b8d2f",
   "metadata": {},
   "outputs": [],
   "source": [
    "# Reading in data\n",
    "temps = pd.read_excel(r\"C:\\Users\\Matthew\\PycharmProjects\\ISDS-7075-Project\\final_project\\datasets\\dataset.xlsx\",\n",
    "                      sheet_name=\"temperature_history\")"
   ]
  },
  {
   "cell_type": "code",
   "execution_count": 37,
   "id": "1da4a032",
   "metadata": {},
   "outputs": [
    {
     "name": "stdout",
     "output_type": "stream",
     "text": [
      "0       2015-01-01\n",
      "1       2015-01-01\n",
      "2       2015-01-01\n",
      "3       2015-01-01\n",
      "4       2015-01-01\n",
      "           ...    \n",
      "14773   2019-06-29\n",
      "14774   2019-06-29\n",
      "14775   2019-06-29\n",
      "14776   2019-06-29\n",
      "14777   2019-06-29\n",
      "Name: date, Length: 14778, dtype: datetime64[ns]\n"
     ]
    }
   ],
   "source": [
    "# Creating dummy variables for each of the 9 weather stations\n",
    "temps = pd.get_dummies(temps, columns=[\"station_id\"])\n",
    "\n",
    "# Creating a date field\n",
    "temps[\"date\"] = pd.to_datetime(temps[[\"year\", \"month\", \"day\"]], format='%Y-%m-%d', errors='coerce')\n",
    "train_dates = temps[\"date\"]\n",
    "\n",
    "print(train_dates)"
   ]
  },
  {
   "cell_type": "code",
   "execution_count": 38,
   "id": "d3b41001",
   "metadata": {},
   "outputs": [],
   "source": [
    "# Identifying which cols for training (h1 is the y in this example)\n",
    "cols = list(temps)[4:-1]\n",
    "\n",
    "\n",
    "# New df with only x vars\n",
    "df_for_training = temps[cols].astype(float)\n",
    "df_for_training = df_for_training.iloc[0:14715,:]"
   ]
  },
  {
   "cell_type": "code",
   "execution_count": 39,
   "id": "58bcbb07",
   "metadata": {},
   "outputs": [],
   "source": [
    "# LTSM uses sigmoid and tanh that are sensitive to magnitude, so values need to be normalized\n",
    "scaler = StandardScaler()\n",
    "scaler = scaler.fit(df_for_training)\n",
    "df_for_training_scaled = scaler.transform(df_for_training)"
   ]
  },
  {
   "cell_type": "code",
   "execution_count": 52,
   "id": "cb2ea69b",
   "metadata": {},
   "outputs": [],
   "source": [
    "trainX = []\n",
    "trainY = []\n",
    "\n",
    "\n",
    "\n",
    "\n",
    "n_future = 7\n",
    "n_past = 14\n",
    "\n",
    "\n",
    "\n",
    "for i in range(n_past, len(df_for_training_scaled) - n_future + 1):\n",
    "    trainX.append(df_for_training_scaled[i - n_past:i, 0:df_for_training.shape[1]])\n",
    "    trainY.append(df_for_training_scaled[i + n_future - 1:i + n_future, 0])\n",
    "\n",
    "trainX, trainY = np.array(trainX), np.array(trainY)\n",
    "\n"
   ]
  },
  {
   "cell_type": "code",
   "execution_count": 44,
   "id": "afaf0e8e",
   "metadata": {},
   "outputs": [
    {
     "name": "stdout",
     "output_type": "stream",
     "text": [
      "Model: \"sequential_3\"\n",
      "_________________________________________________________________\n",
      " Layer (type)                Output Shape              Param #   \n",
      "=================================================================\n",
      " lstm_2 (LSTM)               (None, 14, 64)            25088     \n",
      "                                                                 \n",
      " lstm_3 (LSTM)               (None, 32)                12416     \n",
      "                                                                 \n",
      " dropout_1 (Dropout)         (None, 32)                0         \n",
      "                                                                 \n",
      " dense_1 (Dense)             (None, 1)                 33        \n",
      "                                                                 \n",
      "=================================================================\n",
      "Total params: 37,537\n",
      "Trainable params: 37,537\n",
      "Non-trainable params: 0\n",
      "_________________________________________________________________\n"
     ]
    }
   ],
   "source": [
    "# define Autoencoder model\n",
    "\n",
    "model = Sequential()\n",
    "model.add(LSTM(64, activation='relu', input_shape=(trainX.shape[1], trainX.shape[2]), return_sequences=True))\n",
    "model.add(LSTM(32, activation='relu', return_sequences=False))\n",
    "model.add(Dropout(0.2))\n",
    "model.add(Dense(trainY.shape[1]))\n",
    "\n",
    "model.compile(optimizer='adam', loss='mse')\n",
    "model.summary()"
   ]
  },
  {
   "cell_type": "code",
   "execution_count": 45,
   "id": "a286a2af",
   "metadata": {},
   "outputs": [
    {
     "name": "stdout",
     "output_type": "stream",
     "text": [
      "Epoch 1/10\n",
      "827/827 [==============================] - 6s 6ms/step - loss: 0.0932 - val_loss: 0.0495\n",
      "Epoch 2/10\n",
      "827/827 [==============================] - 5s 6ms/step - loss: 0.0621 - val_loss: 0.0426\n",
      "Epoch 3/10\n",
      "827/827 [==============================] - 5s 6ms/step - loss: 0.0544 - val_loss: 0.0367\n",
      "Epoch 4/10\n",
      "827/827 [==============================] - 5s 6ms/step - loss: 0.0492 - val_loss: 0.0263\n",
      "Epoch 5/10\n",
      "827/827 [==============================] - 5s 6ms/step - loss: 0.0434 - val_loss: 0.0314\n",
      "Epoch 6/10\n",
      "827/827 [==============================] - 5s 6ms/step - loss: 0.0390 - val_loss: 0.0242\n",
      "Epoch 7/10\n",
      "827/827 [==============================] - 5s 6ms/step - loss: 0.0364 - val_loss: 0.0186\n",
      "Epoch 8/10\n",
      "827/827 [==============================] - 5s 6ms/step - loss: 0.0351 - val_loss: 0.0168\n",
      "Epoch 9/10\n",
      "827/827 [==============================] - 5s 6ms/step - loss: 0.0332 - val_loss: 0.0181\n",
      "Epoch 10/10\n",
      "827/827 [==============================] - 5s 6ms/step - loss: 0.0339 - val_loss: 0.0226\n"
     ]
    }
   ],
   "source": [
    "# fit model\n",
    "history = model.fit(x=trainX, y=trainY, epochs=10, batch_size=16, validation_split=0.1, verbose=1)"
   ]
  },
  {
   "cell_type": "code",
   "execution_count": 47,
   "id": "e897fe90",
   "metadata": {},
   "outputs": [
    {
     "data": {
      "image/png": "[encoded data removed]",
      "text/plain": [
       "<Figure size 640x480 with 1 Axes>"
      ]
     },
     "metadata": {},
     "output_type": "display_data"
    }
   ],
   "source": [
    "# plotting training/validation loss\n",
    "\n",
    "plt.plot(history.history['loss'], label='Training loss')\n",
    "plt.plot(history.history['val_loss'], label='Validation loss')\n",
    "plt.legend()\n",
    "plt.show()"
   ]
  },
  {
   "cell_type": "code",
   "execution_count": 49,
   "id": "56b0f427",
   "metadata": {},
   "outputs": [
    {
     "name": "stdout",
     "output_type": "stream",
     "text": [
      "2/2 [==============================] - 0s 3ms/step\n"
     ]
    }
   ],
   "source": [
    "# Forecasting\n",
    "# start with the last day in training set and predict future\n",
    "n_future = 63\n",
    "forecast_period_dates = pd.date_range(list(train_dates)[-1], periods=n_future, freq='1d').tolist()\n",
    "\n",
    "forecast = model.predict(trainX[-n_future:])"
   ]
  },
  {
   "cell_type": "code",
   "execution_count": 50,
   "id": "3204c4c7",
   "metadata": {},
   "outputs": [
    {
     "name": "stdout",
     "output_type": "stream",
     "text": [
      "[70.640236 77.72397  70.726425 74.09572  79.50617  77.18088  77.72986\n",
      " 76.14853  77.910385 69.657776 77.49251  70.70686  70.230576 77.71091\n",
      " 71.08471  77.54887  74.1533   75.531    64.651535 76.07743  64.282486\n",
      " 69.70007  72.76233  71.02255  70.007    70.31088  70.43484  65.4301\n",
      " 77.078865 65.49022  68.2688   72.01457  69.310104 71.279686 72.13067\n",
      " 73.30465  64.95293  74.02177  65.80912  70.31005  75.99792  71.12596\n",
      " 72.748    70.84444  73.35012  69.69519  78.952835 70.26808  74.29751\n",
      " 78.65837  75.27379  77.00971  76.8506   77.96396  72.27946  79.84995\n",
      " 72.572    75.809    79.03652  76.98732  77.18369  76.40009  76.665565]\n"
     ]
    }
   ],
   "source": [
    "# Perform inverse transformation to rescale back to original range\n",
    "\n",
    "forecast_copies = np.repeat(forecast, df_for_training.shape[1], axis=-1)\n",
    "h1_future = scaler.inverse_transform(forecast_copies)[:,0]\n",
    "print(h1_future)"
   ]
  },
  {
   "cell_type": "code",
   "execution_count": null,
   "id": "8949c042",
   "metadata": {},
   "outputs": [],
   "source": []
  },
  {
   "cell_type": "code",
   "execution_count": 16,
   "id": "3f1b7db4",
   "metadata": {},
   "outputs": [],
   "source": [
    "# Convert timestamp to date\n",
    "\n",
    "forecast_dates =[]\n",
    "\n",
    "for time_i in forecast_period_dates:\n",
    "    forecast_dates.append(time_i.date())"
   ]
  },
  {
   "cell_type": "code",
   "execution_count": 21,
   "id": "0e91cb06",
   "metadata": {},
   "outputs": [
    {
     "name": "stdout",
     "output_type": "stream",
     "text": [
      "         Date         h1\n",
      "0  2019-06-29  78.807388\n",
      "1  2019-06-30  76.582916\n",
      "2  2019-07-01  76.297523\n",
      "3  2019-07-02  77.801979\n",
      "4  2019-07-03  76.510162\n",
      "5  2019-07-04  72.094345\n",
      "6  2019-07-05  78.575760\n",
      "7  2019-07-06  71.975677\n",
      "8  2019-07-07  76.199913\n",
      "9  2019-07-08  78.076698\n",
      "10 2019-07-09  77.259346\n",
      "11 2019-07-10  76.290825\n",
      "12 2019-07-11  77.691422\n",
      "13 2019-07-12  75.547386\n"
     ]
    }
   ],
   "source": [
    "# Date and h1 prediction columns\n",
    "\n",
    "df_forecast = pd.DataFrame({'Date':np.array(forecast_dates), 'h1':y_pred_future})\n",
    "df_forecast['Date'] = pd.to_datetime(df_forecast['Date'])\n",
    "\n",
    "print(df_forecast)"
   ]
  },
  {
   "cell_type": "code",
   "execution_count": null,
   "id": "b42ab6e0",
   "metadata": {},
   "outputs": [],
   "source": []
  }
 ],
 "metadata": {
  "kernelspec": {
   "display_name": "isdsenv",
   "language": "python",
   "name": "isdsenv"
  },
  "language_info": {
   "codemirror_mode": {
    "name": "ipython",
    "version": 3
   },
   "file_extension": ".py",
   "mimetype": "text/x-python",
   "name": "python",
   "nbconvert_exporter": "python",
   "pygments_lexer": "ipython3",
   "version": "3.10.6"
  }
 },
 "nbformat": 4,
 "nbformat_minor": 5
}
